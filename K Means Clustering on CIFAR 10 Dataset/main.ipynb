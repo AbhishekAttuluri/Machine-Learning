{
  "nbformat": 4,
  "nbformat_minor": 0,
  "metadata": {
    "colab": {
      "name": "Untitled3.ipynb",
      "provenance": [],
      "collapsed_sections": []
    },
    "kernelspec": {
      "name": "python3",
      "display_name": "Python 3"
    },
    "language_info": {
      "name": "python"
    }
  },
  "cells": [
    {
      "cell_type": "code",
      "metadata": {
        "id": "XNZeSaGbbgf_"
      },
      "source": [
        "import random\n",
        "import numpy as np\n",
        "import keras\n",
        "from keras import layers, regularizers\n",
        "from tensorflow.keras.datasets import cifar10\n",
        "from sklearn.cluster import KMeans\n",
        "from sklearn.metrics import silhouette_score,davies_bouldin_score\n",
        "import cv2"
      ],
      "execution_count": 1,
      "outputs": []
    },
    {
      "cell_type": "code",
      "metadata": {
        "colab": {
          "base_uri": "https://localhost:8080/"
        },
        "id": "zH4AFCJ7bn6I",
        "outputId": "54e8c39b-0578-47d5-ff84-f618400c645a"
      },
      "source": [
        "(X_train,Y_train),(X_test,Y_test) = cifar10.load_data()\n",
        "print(X_train.shape,Y_train.shape)"
      ],
      "execution_count": 2,
      "outputs": [
        {
          "output_type": "stream",
          "name": "stdout",
          "text": [
            "Downloading data from https://www.cs.toronto.edu/~kriz/cifar-10-python.tar.gz\n",
            "170500096/170498071 [==============================] - 4s 0us/step\n",
            "170508288/170498071 [==============================] - 4s 0us/step\n",
            "(50000, 32, 32, 3) (50000, 1)\n"
          ]
        }
      ]
    },
    {
      "cell_type": "code",
      "metadata": {
        "colab": {
          "base_uri": "https://localhost:8080/"
        },
        "id": "kQvbobgibuW3",
        "outputId": "d9b0ec9a-e386-494c-f7c0-25122ecea663"
      },
      "source": [
        "X_train=np.array([cv2.cvtColor(image,cv2.COLOR_BGR2GRAY) for image in X_train])\n",
        "X_test=np.array([cv2.cvtColor(image,cv2.COLOR_BGR2GRAY) for image in X_test])\n",
        "print(X_train.shape,X_test.shape)"
      ],
      "execution_count": 3,
      "outputs": [
        {
          "output_type": "stream",
          "name": "stdout",
          "text": [
            "(50000, 32, 32) (10000, 32, 32)\n"
          ]
        }
      ]
    },
    {
      "cell_type": "code",
      "metadata": {
        "colab": {
          "base_uri": "https://localhost:8080/"
        },
        "id": "-l2xd6y8cA9H",
        "outputId": "08dda89b-d1c3-4a52-c9cc-a1dcc424dca9"
      },
      "source": [
        "X_train=X_train.astype('float32')/255\n",
        "X_train=X_train.reshape(-1, 1024)\n",
        "X_test=X_test.astype('float32')/255\n",
        "X_test=X_test.reshape(-1, 1024)\n",
        "print(X_train.shape,X_test.shape)"
      ],
      "execution_count": 4,
      "outputs": [
        {
          "output_type": "stream",
          "name": "stdout",
          "text": [
            "(50000, 1024) (10000, 1024)\n"
          ]
        }
      ]
    },
    {
      "cell_type": "code",
      "metadata": {
        "colab": {
          "base_uri": "https://localhost:8080/"
        },
        "id": "dvKh5ubxIHql",
        "outputId": "4c764858-7deb-4885-8b95-71ed2ee63290"
      },
      "source": [
        "#Define initial 'k' clusters and the random centroids for those clusters\n",
        "no_of_clusters=10\n",
        "rand_centroids=[]\n",
        "for i in range(no_of_clusters):\n",
        "  rand_centroids.append(random.choices(X_test,k=1))\n",
        "\n",
        "# Choosing the number of epochs as 100\n",
        "# In every iteration \n",
        "# We find the corresponding cluster to everydata point\n",
        "# We find the updated centroids by calculating the mean of the datapoints of a specific cluster\n",
        "# We find the difference between the previous and current centroids\n",
        "# We repeat this process for 100 epochs\n",
        "centroid_difference=0\n",
        "for a in range(50):\n",
        "  clusters=[]\n",
        "  for point in range(len(X_test)):\n",
        "    distance=[]\n",
        "    for key in range(no_of_clusters):\n",
        "      distance.append(np.linalg.norm(np.subtract(rand_centroids[key],X_test[point])))\n",
        "    minimal_point=min(distance)\n",
        "    clusters.append(distance.index(minimal_point))\n",
        "\n",
        "  updated_centroids=[]\n",
        "  for i in range(no_of_clusters):\n",
        "    temparr=[]\n",
        "    for j in range(len(X_test)):\n",
        "      if i==clusters[j]:\n",
        "        temparr.append(X_test[j])\n",
        "    meancalc=np.mean(temparr,axis=0)\n",
        "    updated_centroids.append(meancalc)\n",
        "  \n",
        "  for i in range(10):\n",
        "    centroid_difference=centroid_difference+np.linalg.norm(np.subtract(updated_centroids[i],rand_centroids[i]))\n",
        "  print(centroid_difference)\n",
        "  rand_centroids=updated_centroids\n",
        "\n",
        "print(rand_centroids)"
      ],
      "execution_count": 28,
      "outputs": [
        {
          "output_type": "stream",
          "name": "stdout",
          "text": [
            "44.484195947647095\n",
            "53.62355720996857\n",
            "57.94986592233181\n",
            "60.803412325680256\n",
            "63.2242536470294\n",
            "65.72712045907974\n",
            "68.1396910995245\n",
            "70.40421818196774\n",
            "72.31568369269371\n",
            "73.96247686818242\n",
            "75.32762971892953\n",
            "76.48857041075826\n",
            "77.57758621498942\n",
            "78.53713365644217\n",
            "79.30513370223343\n",
            "80.11756676808\n",
            "80.96386790648103\n",
            "81.70517734624445\n",
            "82.43023099005222\n",
            "83.13408371992409\n",
            "83.6894020140171\n",
            "84.17601776495576\n",
            "84.6337421219796\n",
            "85.10735060553998\n",
            "85.52347273100168\n",
            "85.91290524788201\n",
            "86.33354602381587\n",
            "86.75718922633678\n",
            "87.1557335127145\n",
            "87.50230891443789\n",
            "87.84599381685257\n",
            "88.14987732563168\n",
            "88.41388397756964\n",
            "88.68013474950567\n",
            "88.94569690944627\n",
            "89.23907299293205\n",
            "89.48203652352095\n",
            "89.72800798807293\n",
            "89.95237512979656\n",
            "90.13451175857335\n",
            "90.25183322094381\n",
            "90.36808514082804\n",
            "90.46575239766389\n",
            "90.54966098628938\n",
            "90.65538772428408\n",
            "90.75433574151248\n",
            "90.8436343879439\n",
            "90.92180966306478\n",
            "91.00770346727222\n",
            "91.12328267190605\n",
            "[array([0.620215  , 0.62417763, 0.63257235, ..., 0.32135722, 0.32404596,\n",
            "       0.33037263], dtype=float32), array([0.8226259 , 0.8182224 , 0.8237716 , ..., 0.4734997 , 0.47922513,\n",
            "       0.4869705 ], dtype=float32), array([0.7026334 , 0.6980862 , 0.7000296 , ..., 0.73202795, 0.7317557 ,\n",
            "       0.7338338 ], dtype=float32), array([0.5152728 , 0.5119941 , 0.5163616 , ..., 0.49814758, 0.49347547,\n",
            "       0.49329823], dtype=float32), array([0.21416105, 0.21482837, 0.2173809 , ..., 0.28364575, 0.27992737,\n",
            "       0.2753281 ], dtype=float32), array([0.85205096, 0.84822655, 0.85314006, ..., 0.80879945, 0.8093896 ,\n",
            "       0.8109835 ], dtype=float32), array([0.28904122, 0.28438628, 0.28576216, ..., 0.31989902, 0.31870326,\n",
            "       0.31992903], dtype=float32), array([0.8105071 , 0.8095812 , 0.81933266, ..., 0.5322691 , 0.53425366,\n",
            "       0.53950816], dtype=float32), array([0.4683585 , 0.46752444, 0.47223547, ..., 0.4650058 , 0.4646077 ,\n",
            "       0.46557483], dtype=float32), array([0.2828912 , 0.27647877, 0.2765866 , ..., 0.5963316 , 0.5847125 ,\n",
            "       0.5791822 ], dtype=float32)]\n"
          ]
        }
      ]
    },
    {
      "cell_type": "code",
      "metadata": {
        "colab": {
          "base_uri": "https://localhost:8080/"
        },
        "id": "pgcaYtF4ISQW",
        "outputId": "a8dc1d74-3642-47ae-c4e8-f2885e83fb68"
      },
      "source": [
        "SH_score=silhouette_score(X_test,clusters)\n",
        "print('Silhouette_score:', SH_score)"
      ],
      "execution_count": 29,
      "outputs": [
        {
          "output_type": "stream",
          "name": "stdout",
          "text": [
            "Silhouette_score: 0.061666515\n"
          ]
        }
      ]
    },
    {
      "cell_type": "code",
      "metadata": {
        "colab": {
          "base_uri": "https://localhost:8080/"
        },
        "id": "utyzLZ85IWOw",
        "outputId": "83b76c53-ac17-42b0-d51e-ebf0138c88e5"
      },
      "source": [
        "DB_score=davies_bouldin_score(X_test, clusters)\n",
        "print('Davis_Bouldin_score:', DB_score)"
      ],
      "execution_count": 30,
      "outputs": [
        {
          "output_type": "stream",
          "name": "stdout",
          "text": [
            "Davis_Bouldin_score: 2.722823529571989\n"
          ]
        }
      ]
    },
    {
      "cell_type": "code",
      "metadata": {
        "id": "3r8HYOyCcOu1"
      },
      "source": [
        "#This is a representation of an input image\n",
        "input_image=layers.Input(shape=(1024),name='input_layer')\n",
        "\n",
        "#Creation of 2 Dense layers as encoding layer1(with 80 neurons) and encoding layer2(with 10 neurons)\n",
        "#RELU activation function is used in both the layers\n",
        "encoding_layer1=layers.Dense(80,activation='relu')(input_image)\n",
        "encoding_layer2=layers.Dense(10,activation='relu')(encoding_layer1)\n",
        "\n",
        "#Creation of an encoder model with the layers created\n",
        "encoder_model=keras.Model(input_image,encoding_layer2)"
      ],
      "execution_count": 31,
      "outputs": []
    },
    {
      "cell_type": "code",
      "metadata": {
        "colab": {
          "base_uri": "https://localhost:8080/"
        },
        "id": "GanFpAH2fXBh",
        "outputId": "79e8b0ba-406d-4c1d-b488-90bc977c4c14"
      },
      "source": [
        "encoder_model.summary()"
      ],
      "execution_count": 32,
      "outputs": [
        {
          "output_type": "stream",
          "name": "stdout",
          "text": [
            "Model: \"model_3\"\n",
            "_________________________________________________________________\n",
            " Layer (type)                Output Shape              Param #   \n",
            "=================================================================\n",
            " input_layer (InputLayer)    [(None, 1024)]            0         \n",
            "                                                                 \n",
            " dense_4 (Dense)             (None, 80)                82000     \n",
            "                                                                 \n",
            " dense_5 (Dense)             (None, 10)                810       \n",
            "                                                                 \n",
            "=================================================================\n",
            "Total params: 82,810\n",
            "Trainable params: 82,810\n",
            "Non-trainable params: 0\n",
            "_________________________________________________________________\n"
          ]
        }
      ]
    },
    {
      "cell_type": "code",
      "metadata": {
        "id": "g-9SsfG8gL0M"
      },
      "source": [
        "#decoder input modelling\n",
        "decoder_input=layers.Input(shape=(10),name='decoder_input_layer')\n",
        "\n",
        "#Creation of 2 Dense layers as encoding layer1(with 80 neurons) and encoding layer2(with 1024 neurons)\n",
        "#RELU activation function is used in both the layers\n",
        "decoding_layer1=layers.Dense(80,activation='relu')(decoder_input)\n",
        "decoding_layer2=layers.Dense(1024,activation='linear')(decoding_layer1)\n",
        "\n",
        "#Creation of an decoder model with the layers created\n",
        "decoder_model=keras.Model(decoder_input,decoding_layer2)\n"
      ],
      "execution_count": 33,
      "outputs": []
    },
    {
      "cell_type": "code",
      "metadata": {
        "colab": {
          "base_uri": "https://localhost:8080/"
        },
        "id": "rq0B06GphL3c",
        "outputId": "858af034-fba9-4cf6-d63d-f8f191e81f8e"
      },
      "source": [
        "decoder_model.summary()"
      ],
      "execution_count": 34,
      "outputs": [
        {
          "output_type": "stream",
          "name": "stdout",
          "text": [
            "Model: \"model_4\"\n",
            "_________________________________________________________________\n",
            " Layer (type)                Output Shape              Param #   \n",
            "=================================================================\n",
            " decoder_input_layer (InputL  [(None, 10)]             0         \n",
            " ayer)                                                           \n",
            "                                                                 \n",
            " dense_6 (Dense)             (None, 80)                880       \n",
            "                                                                 \n",
            " dense_7 (Dense)             (None, 1024)              82944     \n",
            "                                                                 \n",
            "=================================================================\n",
            "Total params: 83,824\n",
            "Trainable params: 83,824\n",
            "Non-trainable params: 0\n",
            "_________________________________________________________________\n"
          ]
        }
      ]
    },
    {
      "cell_type": "code",
      "metadata": {
        "id": "yfHpSSO7hyo4"
      },
      "source": [
        "#With the help of encoder and decoder model we are building autoencoder model\n",
        "ip_image_format=layers.Input(shape=(1024))\n",
        "\n",
        "#Input of encoder model and decoder model and modelling the autoencoder\n",
        "autoencoder_input_encoded=encoder_model(ip_image_format)\n",
        "autoencoder_output_decoded=decoder_model(autoencoder_input_encoded)\n",
        "automodel=keras.Model(ip_image_format,autoencoder_output_decoded)\n",
        "\n",
        "#Compiling the built model\n",
        "automodel.compile(optimizer='adam',loss='mean_squared_error')"
      ],
      "execution_count": 35,
      "outputs": []
    },
    {
      "cell_type": "code",
      "metadata": {
        "colab": {
          "base_uri": "https://localhost:8080/"
        },
        "id": "pr2Sghf1MR6k",
        "outputId": "1ebc6a61-c350-428b-fa18-1152ca550bd9"
      },
      "source": [
        "automodel.fit(X_train,X_train,epochs=50,batch_size=1024,shuffle=True)"
      ],
      "execution_count": 36,
      "outputs": [
        {
          "output_type": "stream",
          "name": "stdout",
          "text": [
            "Epoch 1/50\n",
            "49/49 [==============================] - 2s 30ms/step - loss: 0.0920\n",
            "Epoch 2/50\n",
            "49/49 [==============================] - 1s 29ms/step - loss: 0.0381\n",
            "Epoch 3/50\n",
            "49/49 [==============================] - 1s 29ms/step - loss: 0.0322\n",
            "Epoch 4/50\n",
            "49/49 [==============================] - 2s 32ms/step - loss: 0.0286\n",
            "Epoch 5/50\n",
            "49/49 [==============================] - 1s 30ms/step - loss: 0.0281\n",
            "Epoch 6/50\n",
            "49/49 [==============================] - 2s 32ms/step - loss: 0.0280\n",
            "Epoch 7/50\n",
            "49/49 [==============================] - 1s 30ms/step - loss: 0.0280\n",
            "Epoch 8/50\n",
            "49/49 [==============================] - 1s 29ms/step - loss: 0.0279\n",
            "Epoch 9/50\n",
            "49/49 [==============================] - 2s 31ms/step - loss: 0.0279\n",
            "Epoch 10/50\n",
            "49/49 [==============================] - 1s 30ms/step - loss: 0.0279\n",
            "Epoch 11/50\n",
            "49/49 [==============================] - 1s 29ms/step - loss: 0.0279\n",
            "Epoch 12/50\n",
            "49/49 [==============================] - 1s 29ms/step - loss: 0.0279\n",
            "Epoch 13/50\n",
            "49/49 [==============================] - 1s 30ms/step - loss: 0.0279\n",
            "Epoch 14/50\n",
            "49/49 [==============================] - 2s 31ms/step - loss: 0.0278\n",
            "Epoch 15/50\n",
            "49/49 [==============================] - 1s 29ms/step - loss: 0.0278\n",
            "Epoch 16/50\n",
            "49/49 [==============================] - 1s 29ms/step - loss: 0.0278\n",
            "Epoch 17/50\n",
            "49/49 [==============================] - 2s 32ms/step - loss: 0.0278\n",
            "Epoch 18/50\n",
            "49/49 [==============================] - 1s 29ms/step - loss: 0.0278\n",
            "Epoch 19/50\n",
            "49/49 [==============================] - 1s 29ms/step - loss: 0.0278\n",
            "Epoch 20/50\n",
            "49/49 [==============================] - 1s 29ms/step - loss: 0.0278\n",
            "Epoch 21/50\n",
            "49/49 [==============================] - 1s 30ms/step - loss: 0.0278\n",
            "Epoch 22/50\n",
            "49/49 [==============================] - 1s 30ms/step - loss: 0.0278\n",
            "Epoch 23/50\n",
            "49/49 [==============================] - 2s 33ms/step - loss: 0.0278\n",
            "Epoch 24/50\n",
            "49/49 [==============================] - 2s 31ms/step - loss: 0.0278\n",
            "Epoch 25/50\n",
            "49/49 [==============================] - 1s 31ms/step - loss: 0.0278\n",
            "Epoch 26/50\n",
            "49/49 [==============================] - 1s 30ms/step - loss: 0.0278\n",
            "Epoch 27/50\n",
            "49/49 [==============================] - 2s 31ms/step - loss: 0.0277\n",
            "Epoch 28/50\n",
            "49/49 [==============================] - 1s 29ms/step - loss: 0.0277\n",
            "Epoch 29/50\n",
            "49/49 [==============================] - 2s 31ms/step - loss: 0.0277\n",
            "Epoch 30/50\n",
            "49/49 [==============================] - 1s 29ms/step - loss: 0.0277\n",
            "Epoch 31/50\n",
            "49/49 [==============================] - 1s 30ms/step - loss: 0.0277\n",
            "Epoch 32/50\n",
            "49/49 [==============================] - 1s 29ms/step - loss: 0.0277\n",
            "Epoch 33/50\n",
            "49/49 [==============================] - 1s 29ms/step - loss: 0.0277\n",
            "Epoch 34/50\n",
            "49/49 [==============================] - 1s 29ms/step - loss: 0.0277\n",
            "Epoch 35/50\n",
            "49/49 [==============================] - 1s 29ms/step - loss: 0.0277\n",
            "Epoch 36/50\n",
            "49/49 [==============================] - 1s 30ms/step - loss: 0.0276\n",
            "Epoch 37/50\n",
            "49/49 [==============================] - 1s 29ms/step - loss: 0.0267\n",
            "Epoch 38/50\n",
            "49/49 [==============================] - 1s 29ms/step - loss: 0.0260\n",
            "Epoch 39/50\n",
            "49/49 [==============================] - 1s 29ms/step - loss: 0.0252\n",
            "Epoch 40/50\n",
            "49/49 [==============================] - 1s 29ms/step - loss: 0.0246\n",
            "Epoch 41/50\n",
            "49/49 [==============================] - 1s 29ms/step - loss: 0.0242\n",
            "Epoch 42/50\n",
            "49/49 [==============================] - 1s 29ms/step - loss: 0.0239\n",
            "Epoch 43/50\n",
            "49/49 [==============================] - 1s 29ms/step - loss: 0.0232\n",
            "Epoch 44/50\n",
            "49/49 [==============================] - 1s 29ms/step - loss: 0.0224\n",
            "Epoch 45/50\n",
            "49/49 [==============================] - 2s 32ms/step - loss: 0.0222\n",
            "Epoch 46/50\n",
            "49/49 [==============================] - 1s 29ms/step - loss: 0.0222\n",
            "Epoch 47/50\n",
            "49/49 [==============================] - 1s 29ms/step - loss: 0.0222\n",
            "Epoch 48/50\n",
            "49/49 [==============================] - 1s 29ms/step - loss: 0.0221\n",
            "Epoch 49/50\n",
            "49/49 [==============================] - 1s 29ms/step - loss: 0.0221\n",
            "Epoch 50/50\n",
            "49/49 [==============================] - 1s 29ms/step - loss: 0.0221\n"
          ]
        },
        {
          "output_type": "execute_result",
          "data": {
            "text/plain": [
              "<keras.callbacks.History at 0x7fb278014e10>"
            ]
          },
          "metadata": {},
          "execution_count": 36
        }
      ]
    },
    {
      "cell_type": "code",
      "metadata": {
        "id": "uo25JprPM_6O"
      },
      "source": [
        "image_encoded=encoder_model.predict(X_train)\n",
        "image_decoded=decoder_model.predict(image_encoded)"
      ],
      "execution_count": 37,
      "outputs": []
    },
    {
      "cell_type": "code",
      "metadata": {
        "id": "TDkN_8CfNnwr"
      },
      "source": [
        "Clustering=KMeans(n_clusters=10, random_state=0).fit(image_encoded)"
      ],
      "execution_count": 38,
      "outputs": []
    },
    {
      "cell_type": "code",
      "metadata": {
        "id": "XtkHW4gFPF6O",
        "colab": {
          "base_uri": "https://localhost:8080/"
        },
        "outputId": "ca9ca9fe-fc7f-4ea1-fb2b-bd47b6956997"
      },
      "source": [
        "clusters=Clustering.labels_\n",
        "SH_score=silhouette_score(image_encoded, clusters)\n",
        "print(SH_score)"
      ],
      "execution_count": 39,
      "outputs": [
        {
          "output_type": "stream",
          "name": "stdout",
          "text": [
            "0.15147403\n"
          ]
        }
      ]
    },
    {
      "cell_type": "code",
      "metadata": {
        "colab": {
          "base_uri": "https://localhost:8080/"
        },
        "id": "oBvxvGElQs_X",
        "outputId": "2722c82b-e405-4859-86ad-8cd0ff54d878"
      },
      "source": [
        "DB_score=davies_bouldin_score(X_train, clusters)\n",
        "print(DB_score)"
      ],
      "execution_count": 40,
      "outputs": [
        {
          "output_type": "stream",
          "name": "stdout",
          "text": [
            "2.7334847307592964\n"
          ]
        }
      ]
    },
    {
      "cell_type": "code",
      "metadata": {
        "id": "9XTW9CM1-UC1"
      },
      "source": [
        ""
      ],
      "execution_count": 23,
      "outputs": []
    }
  ]
}